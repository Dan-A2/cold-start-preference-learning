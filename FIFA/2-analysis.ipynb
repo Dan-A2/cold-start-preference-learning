{
 "cells": [
  {
   "cell_type": "markdown",
   "metadata": {},
   "source": [
    "# Imports"
   ]
  },
  {
   "cell_type": "code",
   "execution_count": 1,
   "metadata": {},
   "outputs": [],
   "source": [
    "from util import *\n",
    "from sklearn.metrics import mean_absolute_error, r2_score\n",
    "from sklearn.model_selection import train_test_split\n",
    "import matplotlib.pyplot as plt"
   ]
  },
  {
   "cell_type": "markdown",
   "metadata": {},
   "source": [
    "In the cleaning phase we have cleaned the dataset and made it usable for an XGB model. Here we are going to do further analysis considering some of the categorical features which have too many categories. Let's load the dataset and briefly look at it."
   ]
  },
  {
   "cell_type": "code",
   "execution_count": 2,
   "metadata": {},
   "outputs": [
    {
     "name": "stdout",
     "output_type": "stream",
     "text": [
      "<class 'pandas.core.frame.DataFrame'>\n",
      "RangeIndex: 16685 entries, 0 to 16684\n",
      "Data columns (total 90 columns):\n",
      " #   Column                       Non-Null Count  Dtype  \n",
      "---  ------                       --------------  -----  \n",
      " 0   sofifa_id                    16685 non-null  int64  \n",
      " 1   name                         16685 non-null  object \n",
      " 2   player_positions             16685 non-null  object \n",
      " 3   overall                      16685 non-null  int64  \n",
      " 4   potential                    16685 non-null  int64  \n",
      " 5   value_eur                    16685 non-null  float64\n",
      " 6   wage_eur                     16685 non-null  float64\n",
      " 7   club_team_id                 16685 non-null  float64\n",
      " 8   league_name                  16685 non-null  object \n",
      " 9   league_level                 16685 non-null  float64\n",
      " 10  club_position                16685 non-null  object \n",
      " 11  club_jersey_number           16685 non-null  float64\n",
      " 12  club_contract_valid_until    16685 non-null  float64\n",
      " 13  nationality_id               16685 non-null  int64  \n",
      " 14  preferred_foot               16685 non-null  object \n",
      " 15  weak_foot                    16685 non-null  int64  \n",
      " 16  skill_moves                  16685 non-null  int64  \n",
      " 17  international_reputation     16685 non-null  int64  \n",
      " 18  work_rate                    16685 non-null  object \n",
      " 19  body_type                    16685 non-null  object \n",
      " 20  real_face                    16685 non-null  object \n",
      " 21  release_clause_eur           16685 non-null  float64\n",
      " 22  pace                         16685 non-null  float64\n",
      " 23  shooting                     16685 non-null  float64\n",
      " 24  passing                      16685 non-null  float64\n",
      " 25  dribbling                    16685 non-null  float64\n",
      " 26  defending                    16685 non-null  float64\n",
      " 27  physic                       16685 non-null  float64\n",
      " 28  attacking_crossing           16685 non-null  int64  \n",
      " 29  attacking_finishing          16685 non-null  int64  \n",
      " 30  attacking_heading_accuracy   16685 non-null  int64  \n",
      " 31  attacking_short_passing      16685 non-null  int64  \n",
      " 32  attacking_volleys            16685 non-null  int64  \n",
      " 33  skill_dribbling              16685 non-null  int64  \n",
      " 34  skill_curve                  16685 non-null  int64  \n",
      " 35  skill_fk_accuracy            16685 non-null  int64  \n",
      " 36  skill_long_passing           16685 non-null  int64  \n",
      " 37  skill_ball_control           16685 non-null  int64  \n",
      " 38  movement_acceleration        16685 non-null  int64  \n",
      " 39  movement_sprint_speed        16685 non-null  int64  \n",
      " 40  movement_agility             16685 non-null  int64  \n",
      " 41  movement_reactions           16685 non-null  int64  \n",
      " 42  movement_balance             16685 non-null  int64  \n",
      " 43  power_shot_power             16685 non-null  int64  \n",
      " 44  power_jumping                16685 non-null  int64  \n",
      " 45  power_stamina                16685 non-null  int64  \n",
      " 46  power_strength               16685 non-null  int64  \n",
      " 47  power_long_shots             16685 non-null  int64  \n",
      " 48  mentality_aggression         16685 non-null  int64  \n",
      " 49  mentality_interceptions      16685 non-null  int64  \n",
      " 50  mentality_positioning        16685 non-null  int64  \n",
      " 51  mentality_vision             16685 non-null  int64  \n",
      " 52  mentality_penalties          16685 non-null  int64  \n",
      " 53  mentality_composure          16685 non-null  int64  \n",
      " 54  defending_marking_awareness  16685 non-null  int64  \n",
      " 55  defending_standing_tackle    16685 non-null  int64  \n",
      " 56  defending_sliding_tackle     16685 non-null  int64  \n",
      " 57  goalkeeping_diving           16685 non-null  int64  \n",
      " 58  goalkeeping_handling         16685 non-null  int64  \n",
      " 59  goalkeeping_kicking          16685 non-null  int64  \n",
      " 60  goalkeeping_positioning      16685 non-null  int64  \n",
      " 61  goalkeeping_reflexes         16685 non-null  int64  \n",
      " 62  goalkeeping_speed            16685 non-null  float64\n",
      " 63  ls                           16685 non-null  int64  \n",
      " 64  st                           16685 non-null  int64  \n",
      " 65  rs                           16685 non-null  int64  \n",
      " 66  lw                           16685 non-null  int64  \n",
      " 67  lf                           16685 non-null  int64  \n",
      " 68  cf                           16685 non-null  int64  \n",
      " 69  rf                           16685 non-null  int64  \n",
      " 70  rw                           16685 non-null  int64  \n",
      " 71  lam                          16685 non-null  int64  \n",
      " 72  cam                          16685 non-null  int64  \n",
      " 73  ram                          16685 non-null  int64  \n",
      " 74  lm                           16685 non-null  int64  \n",
      " 75  lcm                          16685 non-null  int64  \n",
      " 76  cm                           16685 non-null  int64  \n",
      " 77  rcm                          16685 non-null  int64  \n",
      " 78  rm                           16685 non-null  int64  \n",
      " 79  lwb                          16685 non-null  int64  \n",
      " 80  ldm                          16685 non-null  int64  \n",
      " 81  cdm                          16685 non-null  int64  \n",
      " 82  rdm                          16685 non-null  int64  \n",
      " 83  rwb                          16685 non-null  int64  \n",
      " 84  lb                           16685 non-null  int64  \n",
      " 85  lcb                          16685 non-null  int64  \n",
      " 86  cb                           16685 non-null  int64  \n",
      " 87  rcb                          16685 non-null  int64  \n",
      " 88  rb                           16685 non-null  int64  \n",
      " 89  gk                           16685 non-null  int64  \n",
      "dtypes: float64(14), int64(68), object(8)\n",
      "memory usage: 11.5+ MB\n"
     ]
    }
   ],
   "source": [
    "data = pd.read_csv(\"./Dataset/cleaned_data.csv\")\n",
    "data.info()"
   ]
  },
  {
   "cell_type": "markdown",
   "metadata": {},
   "source": [
    "# String columns"
   ]
  },
  {
   "cell_type": "markdown",
   "metadata": {},
   "source": [
    "Firstly let's take a look at the number of unique values in each string column."
   ]
  },
  {
   "cell_type": "code",
   "execution_count": 3,
   "metadata": {},
   "outputs": [
    {
     "name": "stdout",
     "output_type": "stream",
     "text": [
      "Value counts for column 'name':\n",
      "15805\n",
      "\n",
      "Value counts for column 'player_positions':\n",
      "668\n",
      "\n",
      "Value counts for column 'league_name':\n",
      "55\n",
      "\n",
      "Value counts for column 'club_position':\n",
      "29\n",
      "\n",
      "Value counts for column 'preferred_foot':\n",
      "2\n",
      "\n",
      "Value counts for column 'work_rate':\n",
      "9\n",
      "\n",
      "Value counts for column 'body_type':\n",
      "10\n",
      "\n",
      "Value counts for column 'real_face':\n",
      "2\n",
      "\n"
     ]
    }
   ],
   "source": [
    "object_columns = data.select_dtypes(include=['object']).columns\n",
    "\n",
    "for col in object_columns:\n",
    "    print(f\"Value counts for column '{col}':\")\n",
    "    print(data[col].nunique())\n",
    "    print()"
   ]
  },
  {
   "cell_type": "markdown",
   "metadata": {},
   "source": [
    "# Checking player_positions effect"
   ]
  },
  {
   "cell_type": "markdown",
   "metadata": {},
   "source": [
    "As we can see, the player_positions column has so many unique values. So we will try to train a model with and without it to check the metrics and see wether it has a siginificant effect. For all the string variables we will try both label encoder and one hot encoding to get more solid results."
   ]
  },
  {
   "cell_type": "markdown",
   "metadata": {},
   "source": [
    "### Checking with label encoder"
   ]
  },
  {
   "cell_type": "code",
   "execution_count": 4,
   "metadata": {},
   "outputs": [
    {
     "name": "stdout",
     "output_type": "stream",
     "text": [
      "Model with 'player_positions': MAE = 168174.0907, R² = 0.9807\n",
      "Model without 'player_positions': MAE = 164076.6727, R² = 0.9821\n"
     ]
    }
   ],
   "source": [
    "# Create a copy of the DataFrame without the 'player_positions' column\n",
    "\n",
    "data_no_player_positions = data.drop(columns=['player_positions'])\n",
    "\n",
    "data_encoded = encode_object_columns(data.copy(), data.select_dtypes('object'))\n",
    "data_no_player_positions_encoded = encode_object_columns(data_no_player_positions.copy(), data_no_player_positions.select_dtypes('object'))\n",
    "\n",
    "# Split the datasets into train and test sets\n",
    "X = data_encoded.drop(columns=['value_eur', 'sofifa_id', 'name'])\n",
    "y = data_encoded['value_eur']\n",
    "\n",
    "X_no_player_positions = data_no_player_positions_encoded.drop(columns=['value_eur', 'sofifa_id', 'name'])\n",
    "y_no_player_positions = data_no_player_positions_encoded['value_eur']\n",
    "\n",
    "X_train, X_test, y_train, y_test = train_test_split(X, y, test_size=0.2, random_state=42)\n",
    "X_train_no_pp, X_test_no_pp, y_train_no_pp, y_test_no_pp = train_test_split(X_no_player_positions, y_no_player_positions, test_size=0.2, random_state=42)\n",
    "\n",
    "# Train XGBoost models and evaluate performance\n",
    "model_with_pp = xgb.XGBRegressor()\n",
    "model_without_pp = xgb.XGBRegressor()\n",
    "\n",
    "model_with_pp.fit(X_train, y_train)\n",
    "model_without_pp.fit(X_train_no_pp, y_train_no_pp)\n",
    "\n",
    "y_pred_with_pp = model_with_pp.predict(X_test)\n",
    "y_pred_without_pp = model_without_pp.predict(X_test_no_pp)\n",
    "\n",
    "mae_with_pp = mean_absolute_error(y_test, y_pred_with_pp)\n",
    "mae_without_pp = mean_absolute_error(y_test_no_pp, y_pred_without_pp)\n",
    "\n",
    "r2_with_pp = r2_score(y_test, y_pred_with_pp)\n",
    "r2_without_pp = r2_score(y_test_no_pp, y_pred_without_pp)\n",
    "\n",
    "print(f\"Model with 'player_positions': MAE = {mae_with_pp:.4f}, R² = {r2_with_pp:.4f}\")\n",
    "print(f\"Model without 'player_positions': MAE = {mae_without_pp:.4f}, R² = {r2_without_pp:.4f}\")"
   ]
  },
  {
   "cell_type": "code",
   "execution_count": 5,
   "metadata": {},
   "outputs": [
    {
     "data": {
      "text/plain": [
       "np.float64(0.0013645758216826991)"
      ]
     },
     "execution_count": 5,
     "metadata": {},
     "output_type": "execute_result"
    }
   ],
   "source": [
    "(mae_with_pp - mae_without_pp) / data['value_eur'].mean()"
   ]
  },
  {
   "cell_type": "markdown",
   "metadata": {},
   "source": [
    "As we can see, the difference is very little and it is almost insignificant. So with this observation it is okay to completely remove this column."
   ]
  },
  {
   "cell_type": "markdown",
   "metadata": {},
   "source": [
    "### Cheking with dummy variables"
   ]
  },
  {
   "cell_type": "code",
   "execution_count": 6,
   "metadata": {},
   "outputs": [
    {
     "name": "stdout",
     "output_type": "stream",
     "text": [
      "Model with 'player_positions': MAE = 170564.1238, R² = 0.9817\n",
      "Model without 'player_positions': MAE = 162074.1981, R² = 0.9815\n"
     ]
    }
   ],
   "source": [
    "data_no_player_positions = data.drop(columns=['player_positions'])\n",
    "\n",
    "# One-Hot Encoding the Object Columns\n",
    "data_encoded = pd.get_dummies(data.drop(columns=['name']), drop_first=True)\n",
    "data_no_player_positions_encoded = pd.get_dummies(data_no_player_positions.drop(columns=['name']), drop_first=True)\n",
    "\n",
    "X = data_encoded.drop(columns=['value_eur', 'sofifa_id'])\n",
    "y = data_encoded['value_eur']\n",
    "\n",
    "X_no_player_positions = data_no_player_positions_encoded.drop(columns=['value_eur', 'sofifa_id'])\n",
    "y_no_player_positions = data_no_player_positions_encoded['value_eur']\n",
    "\n",
    "X_train, X_test, y_train, y_test = train_test_split(X, y, test_size=0.2, random_state=42)\n",
    "X_train_no_pp, X_test_no_pp, y_train_no_pp, y_test_no_pp = train_test_split(X_no_player_positions, y_no_player_positions, test_size=0.2, random_state=42)\n",
    "\n",
    "model_with_pp = xgb.XGBRegressor()\n",
    "model_without_pp = xgb.XGBRegressor()\n",
    "\n",
    "model_with_pp.fit(X_train, y_train)\n",
    "model_without_pp.fit(X_train_no_pp, y_train_no_pp)\n",
    "\n",
    "y_pred_with_pp = model_with_pp.predict(X_test)\n",
    "y_pred_without_pp = model_without_pp.predict(X_test_no_pp)\n",
    "\n",
    "mae_with_pp = mean_absolute_error(y_test, y_pred_with_pp)\n",
    "mae_without_pp = mean_absolute_error(y_test_no_pp, y_pred_without_pp)\n",
    "\n",
    "r2_with_pp = r2_score(y_test, y_pred_with_pp)\n",
    "r2_without_pp = r2_score(y_test_no_pp, y_pred_without_pp)\n",
    "\n",
    "print(f\"Model with 'player_positions': MAE = {mae_with_pp:.4f}, R² = {r2_with_pp:.4f}\")\n",
    "print(f\"Model without 'player_positions': MAE = {mae_without_pp:.4f}, R² = {r2_without_pp:.4f}\")"
   ]
  },
  {
   "cell_type": "code",
   "execution_count": 7,
   "metadata": {},
   "outputs": [
    {
     "data": {
      "text/plain": [
       "np.float64(0.00282742628335976)"
      ]
     },
     "execution_count": 7,
     "metadata": {},
     "output_type": "execute_result"
    }
   ],
   "source": [
    "(mae_with_pp - mae_without_pp) / data['value_eur'].mean()"
   ]
  },
  {
   "cell_type": "markdown",
   "metadata": {},
   "source": [
    "Like the prevoius section, we can see that the difference is insignificant so we can delete this column with 100% confidence that it wouldn't affect our model."
   ]
  },
  {
   "cell_type": "markdown",
   "metadata": {},
   "source": [
    "There is another important observation that we have. Label Encoder performs slightly better than one-hot encoder. So we will use label encoder for the training and testing phase."
   ]
  },
  {
   "cell_type": "code",
   "execution_count": 8,
   "metadata": {},
   "outputs": [],
   "source": [
    "final_df = data.drop(columns=['player_positions'])"
   ]
  },
  {
   "cell_type": "markdown",
   "metadata": {},
   "source": [
    "# Consumption VS. Non-Consumption"
   ]
  },
  {
   "cell_type": "markdown",
   "metadata": {},
   "source": [
    "Now we have to check a very important thing in our dataset. We want to apply PCA to our data so that we can use it to predict its' label. The problem is that PCA only applies to integer columns and doesn't support the categorical ones. There is another metric to support catedorical columns named MCA. In order to understand what method fits a specific column we will design a metric to evaluate that. Ofcourse all the float and integer values are consumption (not the ones that have been encoded to integers. actual integers)."
   ]
  },
  {
   "cell_type": "markdown",
   "metadata": {},
   "source": [
    "The method that we want to use to check if a varibale is consumtion or non-consumption is to get all the unique values that it has, leave one of them out and fit two PCAs on the two subsets that are created from the main dataset. We will do this for all the unique values and check the distance between their eigen vectors. If it is higher than a threshold for any of them, that variable is considered to be non-consumption and we will fit an MCA on it. Otherwise we will fit a PCA."
   ]
  },
  {
   "cell_type": "markdown",
   "metadata": {},
   "source": [
    "Note that in this method, we will only consider the numerical columns and the string columns are not applied in the fitted PCA."
   ]
  },
  {
   "cell_type": "markdown",
   "metadata": {},
   "source": [
    "Now let's check which columns are consumption and which are not."
   ]
  },
  {
   "cell_type": "code",
   "execution_count": 9,
   "metadata": {},
   "outputs": [
    {
     "name": "stdout",
     "output_type": "stream",
     "text": [
      "league_name is a consumption column\n",
      "club_position is a consumption column\n",
      "preferred_foot is a consumption column\n",
      "work_rate is a consumption column\n",
      "body_type is a consumption column\n",
      "real_face is a consumption column\n"
     ]
    }
   ],
   "source": [
    "object_columns = final_df.select_dtypes(include=['object']).columns\n",
    "for col in object_columns:\n",
    "    if col == 'name':\n",
    "        continue\n",
    "    print(f\"{col} is{'' if is_consumption(final_df, col, 'value_eur', threshold=0.3) else ' not'} a consumption column\")"
   ]
  },
  {
   "cell_type": "markdown",
   "metadata": {},
   "source": [
    "Now we will convert the consumption columns to integer."
   ]
  },
  {
   "cell_type": "code",
   "execution_count": 10,
   "metadata": {},
   "outputs": [],
   "source": [
    "final_df = encode_object_columns(final_df, object_columns)"
   ]
  },
  {
   "cell_type": "markdown",
   "metadata": {},
   "source": [
    "# Save"
   ]
  },
  {
   "cell_type": "code",
   "execution_count": 11,
   "metadata": {},
   "outputs": [],
   "source": [
    "final_df.to_csv('./Dataset/analyzed_data.csv', index=False)"
   ]
  }
 ],
 "metadata": {
  "kernelspec": {
   "display_name": "Python 3",
   "language": "python",
   "name": "python3"
  },
  "language_info": {
   "codemirror_mode": {
    "name": "ipython",
    "version": 3
   },
   "file_extension": ".py",
   "mimetype": "text/x-python",
   "name": "python",
   "nbconvert_exporter": "python",
   "pygments_lexer": "ipython3",
   "version": "3.12.6"
  }
 },
 "nbformat": 4,
 "nbformat_minor": 2
}
