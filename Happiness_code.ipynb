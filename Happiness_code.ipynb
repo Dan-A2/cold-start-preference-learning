{
 "cells": [
  {
   "cell_type": "markdown",
   "id": "a310445b",
   "metadata": {
    "papermill": {
     "duration": 0.004491,
     "end_time": "2025-03-04T21:15:23.578577",
     "exception": false,
     "start_time": "2025-03-04T21:15:23.574086",
     "status": "completed"
    },
    "tags": []
   },
   "source": [
    "# Imports"
   ]
  },
  {
   "cell_type": "code",
   "execution_count": 1,
   "id": "02d0de4a",
   "metadata": {
    "execution": {
     "iopub.execute_input": "2025-03-04T21:15:23.587222Z",
     "iopub.status.busy": "2025-03-04T21:15:23.586884Z",
     "iopub.status.idle": "2025-03-04T21:15:26.952942Z",
     "shell.execute_reply": "2025-03-04T21:15:26.951463Z"
    },
    "papermill": {
     "duration": 3.372722,
     "end_time": "2025-03-04T21:15:26.954968",
     "exception": false,
     "start_time": "2025-03-04T21:15:23.582246",
     "status": "completed"
    },
    "tags": []
   },
   "outputs": [],
   "source": [
    "import sys\n",
    "import matplotlib.pyplot as plt\n",
    "import seaborn as sns"
   ]
  },
  {
   "cell_type": "code",
   "execution_count": 2,
   "id": "3aac7289",
   "metadata": {
    "execution": {
     "iopub.execute_input": "2025-03-04T21:15:26.964880Z",
     "iopub.status.busy": "2025-03-04T21:15:26.964304Z",
     "iopub.status.idle": "2025-03-04T21:15:28.030606Z",
     "shell.execute_reply": "2025-03-04T21:15:28.029256Z"
    },
    "papermill": {
     "duration": 1.073373,
     "end_time": "2025-03-04T21:15:28.032717",
     "exception": false,
     "start_time": "2025-03-04T21:15:26.959344",
     "status": "completed"
    },
    "tags": []
   },
   "outputs": [],
   "source": [
    "# sys.path.insert(1, '/kaggle/input/utiletet1')\n",
    "# from util import *\n",
    "from Config.util import *"
   ]
  },
  {
   "cell_type": "code",
   "execution_count": 3,
   "id": "af78af76",
   "metadata": {
    "execution": {
     "iopub.execute_input": "2025-03-04T21:15:28.042077Z",
     "iopub.status.busy": "2025-03-04T21:15:28.041612Z",
     "iopub.status.idle": "2025-03-04T21:15:28.046497Z",
     "shell.execute_reply": "2025-03-04T21:15:28.045420Z"
    },
    "papermill": {
     "duration": 0.011677,
     "end_time": "2025-03-04T21:15:28.048574",
     "exception": false,
     "start_time": "2025-03-04T21:15:28.036897",
     "status": "completed"
    },
    "tags": []
   },
   "outputs": [],
   "source": [
    "pd.set_option('display.max_columns', None)\n",
    "pd.set_option('display.max_rows', None)"
   ]
  },
  {
   "cell_type": "markdown",
   "id": "1f8103b4",
   "metadata": {
    "papermill": {
     "duration": 0.003473,
     "end_time": "2025-03-04T21:15:28.056789",
     "exception": false,
     "start_time": "2025-03-04T21:15:28.053316",
     "status": "completed"
    },
    "tags": []
   },
   "source": [
    "# Dataset"
   ]
  },
  {
   "cell_type": "code",
   "execution_count": 4,
   "id": "f287080e",
   "metadata": {
    "execution": {
     "iopub.execute_input": "2025-03-04T21:15:28.067167Z",
     "iopub.status.busy": "2025-03-04T21:15:28.066798Z",
     "iopub.status.idle": "2025-03-04T21:15:28.114193Z",
     "shell.execute_reply": "2025-03-04T21:15:28.112282Z"
    },
    "papermill": {
     "duration": 0.05469,
     "end_time": "2025-03-04T21:15:28.116447",
     "exception": false,
     "start_time": "2025-03-04T21:15:28.061757",
     "status": "completed"
    },
    "tags": []
   },
   "outputs": [
    {
     "data": {
      "text/html": [
       "<div>\n",
       "<style scoped>\n",
       "    .dataframe tbody tr th:only-of-type {\n",
       "        vertical-align: middle;\n",
       "    }\n",
       "\n",
       "    .dataframe tbody tr th {\n",
       "        vertical-align: top;\n",
       "    }\n",
       "\n",
       "    .dataframe thead th {\n",
       "        text-align: right;\n",
       "    }\n",
       "</style>\n",
       "<table border=\"1\" class=\"dataframe\">\n",
       "  <thead>\n",
       "    <tr style=\"text-align: right;\">\n",
       "      <th></th>\n",
       "      <th>Country</th>\n",
       "      <th>Region</th>\n",
       "      <th>Rank 2019</th>\n",
       "      <th>Score 2019</th>\n",
       "      <th>GDP 2019</th>\n",
       "      <th>Family 2019</th>\n",
       "      <th>Life Expectancy 2019</th>\n",
       "      <th>Freedom 2019</th>\n",
       "      <th>Trust 2019</th>\n",
       "      <th>Generosity 2019</th>\n",
       "    </tr>\n",
       "  </thead>\n",
       "  <tbody>\n",
       "    <tr>\n",
       "      <th>0</th>\n",
       "      <td>Afghanistan</td>\n",
       "      <td>Southern Asia</td>\n",
       "      <td>154</td>\n",
       "      <td>3.203</td>\n",
       "      <td>0.350</td>\n",
       "      <td>0.517</td>\n",
       "      <td>0.361</td>\n",
       "      <td>0.000</td>\n",
       "      <td>0.025</td>\n",
       "      <td>0.158</td>\n",
       "    </tr>\n",
       "    <tr>\n",
       "      <th>1</th>\n",
       "      <td>Albania</td>\n",
       "      <td>Central and Eastern Europe</td>\n",
       "      <td>107</td>\n",
       "      <td>4.719</td>\n",
       "      <td>0.947</td>\n",
       "      <td>0.848</td>\n",
       "      <td>0.874</td>\n",
       "      <td>0.383</td>\n",
       "      <td>0.027</td>\n",
       "      <td>0.178</td>\n",
       "    </tr>\n",
       "    <tr>\n",
       "      <th>2</th>\n",
       "      <td>Algeria</td>\n",
       "      <td>Middle East and Northern Africa</td>\n",
       "      <td>88</td>\n",
       "      <td>5.211</td>\n",
       "      <td>1.002</td>\n",
       "      <td>1.160</td>\n",
       "      <td>0.785</td>\n",
       "      <td>0.086</td>\n",
       "      <td>0.114</td>\n",
       "      <td>0.073</td>\n",
       "    </tr>\n",
       "    <tr>\n",
       "      <th>3</th>\n",
       "      <td>Argentina</td>\n",
       "      <td>Latin America and Caribbean</td>\n",
       "      <td>47</td>\n",
       "      <td>6.086</td>\n",
       "      <td>1.092</td>\n",
       "      <td>1.432</td>\n",
       "      <td>0.881</td>\n",
       "      <td>0.471</td>\n",
       "      <td>0.050</td>\n",
       "      <td>0.066</td>\n",
       "    </tr>\n",
       "    <tr>\n",
       "      <th>4</th>\n",
       "      <td>Armenia</td>\n",
       "      <td>Central and Eastern Europe</td>\n",
       "      <td>116</td>\n",
       "      <td>4.559</td>\n",
       "      <td>0.850</td>\n",
       "      <td>1.055</td>\n",
       "      <td>0.815</td>\n",
       "      <td>0.283</td>\n",
       "      <td>0.064</td>\n",
       "      <td>0.095</td>\n",
       "    </tr>\n",
       "  </tbody>\n",
       "</table>\n",
       "</div>"
      ],
      "text/plain": [
       "       Country                           Region  Rank 2019  Score 2019  \\\n",
       "0  Afghanistan                    Southern Asia        154       3.203   \n",
       "1      Albania       Central and Eastern Europe        107       4.719   \n",
       "2      Algeria  Middle East and Northern Africa         88       5.211   \n",
       "3    Argentina      Latin America and Caribbean         47       6.086   \n",
       "4      Armenia       Central and Eastern Europe        116       4.559   \n",
       "\n",
       "   GDP 2019  Family 2019  Life Expectancy 2019  Freedom 2019  Trust 2019  \\\n",
       "0     0.350        0.517                 0.361         0.000       0.025   \n",
       "1     0.947        0.848                 0.874         0.383       0.027   \n",
       "2     1.002        1.160                 0.785         0.086       0.114   \n",
       "3     1.092        1.432                 0.881         0.471       0.050   \n",
       "4     0.850        1.055                 0.815         0.283       0.064   \n",
       "\n",
       "   Generosity 2019  \n",
       "0            0.158  \n",
       "1            0.178  \n",
       "2            0.073  \n",
       "3            0.066  \n",
       "4            0.095  "
      ]
     },
     "execution_count": 4,
     "metadata": {},
     "output_type": "execute_result"
    }
   ],
   "source": [
    "data = pd.read_csv('Datasets/happiness.csv')\n",
    "data.head()"
   ]
  },
  {
   "cell_type": "code",
   "execution_count": 5,
   "id": "e62f1310",
   "metadata": {
    "execution": {
     "iopub.execute_input": "2025-03-04T21:15:28.127566Z",
     "iopub.status.busy": "2025-03-04T21:15:28.127255Z",
     "iopub.status.idle": "2025-03-04T21:15:28.131847Z",
     "shell.execute_reply": "2025-03-04T21:15:28.130499Z"
    },
    "papermill": {
     "duration": 0.011385,
     "end_time": "2025-03-04T21:15:28.133348",
     "exception": false,
     "start_time": "2025-03-04T21:15:28.121963",
     "status": "completed"
    },
    "tags": []
   },
   "outputs": [],
   "source": [
    "target_col_name = 'Score 2019'"
   ]
  },
  {
   "cell_type": "code",
   "execution_count": 6,
   "id": "6b89dc18",
   "metadata": {
    "execution": {
     "iopub.execute_input": "2025-03-04T21:15:28.143252Z",
     "iopub.status.busy": "2025-03-04T21:15:28.142828Z",
     "iopub.status.idle": "2025-03-04T21:15:28.177242Z",
     "shell.execute_reply": "2025-03-04T21:15:28.175745Z"
    },
    "papermill": {
     "duration": 0.041856,
     "end_time": "2025-03-04T21:15:28.179563",
     "exception": false,
     "start_time": "2025-03-04T21:15:28.137707",
     "status": "completed"
    },
    "tags": []
   },
   "outputs": [
    {
     "name": "stdout",
     "output_type": "stream",
     "text": [
      "<class 'pandas.core.frame.DataFrame'>\n",
      "RangeIndex: 156 entries, 0 to 155\n",
      "Data columns (total 10 columns):\n",
      " #   Column                Non-Null Count  Dtype  \n",
      "---  ------                --------------  -----  \n",
      " 0   Country               156 non-null    object \n",
      " 1   Region                156 non-null    object \n",
      " 2   Rank 2019             156 non-null    int64  \n",
      " 3   Score 2019            156 non-null    float64\n",
      " 4   GDP 2019              156 non-null    float64\n",
      " 5   Family 2019           156 non-null    float64\n",
      " 6   Life Expectancy 2019  156 non-null    float64\n",
      " 7   Freedom 2019          156 non-null    float64\n",
      " 8   Trust 2019            156 non-null    float64\n",
      " 9   Generosity 2019       156 non-null    float64\n",
      "dtypes: float64(7), int64(1), object(2)\n",
      "memory usage: 12.3+ KB\n"
     ]
    }
   ],
   "source": [
    "data.info()"
   ]
  },
  {
   "cell_type": "code",
   "execution_count": 7,
   "id": "70b126b7",
   "metadata": {
    "execution": {
     "iopub.execute_input": "2025-03-04T21:15:28.189817Z",
     "iopub.status.busy": "2025-03-04T21:15:28.189400Z",
     "iopub.status.idle": "2025-03-04T21:15:28.196205Z",
     "shell.execute_reply": "2025-03-04T21:15:28.195167Z"
    },
    "papermill": {
     "duration": 0.013971,
     "end_time": "2025-03-04T21:15:28.198249",
     "exception": false,
     "start_time": "2025-03-04T21:15:28.184278",
     "status": "completed"
    },
    "tags": []
   },
   "outputs": [
    {
     "data": {
      "text/plain": [
       "array(['Southern Asia', 'Central and Eastern Europe',\n",
       "       'Middle East and Northern Africa', 'Latin America and Caribbean',\n",
       "       'Australia and New Zealand', 'Western Europe',\n",
       "       'Sub-Saharan Africa', 'Southeastern Asia', 'North America',\n",
       "       'Eastern Asia'], dtype=object)"
      ]
     },
     "execution_count": 7,
     "metadata": {},
     "output_type": "execute_result"
    }
   ],
   "source": [
    "data['Region'].unique()"
   ]
  },
  {
   "cell_type": "code",
   "execution_count": 8,
   "id": "80199ccd",
   "metadata": {
    "execution": {
     "iopub.execute_input": "2025-03-04T21:15:28.209152Z",
     "iopub.status.busy": "2025-03-04T21:15:28.208624Z",
     "iopub.status.idle": "2025-03-04T21:15:28.215980Z",
     "shell.execute_reply": "2025-03-04T21:15:28.213779Z"
    },
    "papermill": {
     "duration": 0.014897,
     "end_time": "2025-03-04T21:15:28.218046",
     "exception": false,
     "start_time": "2025-03-04T21:15:28.203149",
     "status": "completed"
    },
    "tags": []
   },
   "outputs": [
    {
     "data": {
      "text/plain": [
       "156"
      ]
     },
     "execution_count": 8,
     "metadata": {},
     "output_type": "execute_result"
    }
   ],
   "source": [
    "data['Country'].nunique()"
   ]
  },
  {
   "cell_type": "code",
   "execution_count": 9,
   "id": "805825a5",
   "metadata": {
    "execution": {
     "iopub.execute_input": "2025-03-04T21:15:28.231369Z",
     "iopub.status.busy": "2025-03-04T21:15:28.231023Z",
     "iopub.status.idle": "2025-03-04T21:15:28.240636Z",
     "shell.execute_reply": "2025-03-04T21:15:28.238957Z"
    },
    "papermill": {
     "duration": 0.01915,
     "end_time": "2025-03-04T21:15:28.242997",
     "exception": false,
     "start_time": "2025-03-04T21:15:28.223847",
     "status": "completed"
    },
    "tags": []
   },
   "outputs": [],
   "source": [
    "data.drop(columns=['Country'], inplace=True)"
   ]
  },
  {
   "cell_type": "code",
   "execution_count": 10,
   "id": "3429f2a4",
   "metadata": {
    "execution": {
     "iopub.execute_input": "2025-03-04T21:15:28.253987Z",
     "iopub.status.busy": "2025-03-04T21:15:28.253498Z",
     "iopub.status.idle": "2025-03-04T21:15:28.331538Z",
     "shell.execute_reply": "2025-03-04T21:15:28.330081Z"
    },
    "papermill": {
     "duration": 0.085439,
     "end_time": "2025-03-04T21:15:28.333463",
     "exception": false,
     "start_time": "2025-03-04T21:15:28.248024",
     "status": "completed"
    },
    "tags": []
   },
   "outputs": [
    {
     "name": "stdout",
     "output_type": "stream",
     "text": [
      "Region is not a consumption column\n"
     ]
    }
   ],
   "source": [
    "object_cols = data.select_dtypes(include='object').columns.to_list()\n",
    "for col in object_cols:\n",
    "    print(f\"{col} is{'' if is_consumption(data, col, target_col_name, 0.5) else ' not'} a consumption column\")"
   ]
  },
  {
   "cell_type": "code",
   "execution_count": 11,
   "id": "2a96f8b5",
   "metadata": {
    "execution": {
     "iopub.execute_input": "2025-03-04T21:15:28.344026Z",
     "iopub.status.busy": "2025-03-04T21:15:28.343587Z",
     "iopub.status.idle": "2025-03-04T21:15:28.367505Z",
     "shell.execute_reply": "2025-03-04T21:15:28.366148Z"
    },
    "papermill": {
     "duration": 0.031098,
     "end_time": "2025-03-04T21:15:28.369463",
     "exception": false,
     "start_time": "2025-03-04T21:15:28.338365",
     "status": "completed"
    },
    "tags": []
   },
   "outputs": [
    {
     "data": {
      "text/html": [
       "<div>\n",
       "<style scoped>\n",
       "    .dataframe tbody tr th:only-of-type {\n",
       "        vertical-align: middle;\n",
       "    }\n",
       "\n",
       "    .dataframe tbody tr th {\n",
       "        vertical-align: top;\n",
       "    }\n",
       "\n",
       "    .dataframe thead th {\n",
       "        text-align: right;\n",
       "    }\n",
       "</style>\n",
       "<table border=\"1\" class=\"dataframe\">\n",
       "  <thead>\n",
       "    <tr style=\"text-align: right;\">\n",
       "      <th></th>\n",
       "      <th>Rank 2019</th>\n",
       "      <th>Score 2019</th>\n",
       "      <th>GDP 2019</th>\n",
       "      <th>Family 2019</th>\n",
       "      <th>Life Expectancy 2019</th>\n",
       "      <th>Freedom 2019</th>\n",
       "      <th>Trust 2019</th>\n",
       "      <th>Generosity 2019</th>\n",
       "      <th>Region_Australia and New Zealand</th>\n",
       "      <th>Region_Central and Eastern Europe</th>\n",
       "      <th>Region_Eastern Asia</th>\n",
       "      <th>Region_Latin America and Caribbean</th>\n",
       "      <th>Region_Middle East and Northern Africa</th>\n",
       "      <th>Region_North America</th>\n",
       "      <th>Region_Southeastern Asia</th>\n",
       "      <th>Region_Southern Asia</th>\n",
       "      <th>Region_Sub-Saharan Africa</th>\n",
       "      <th>Region_Western Europe</th>\n",
       "    </tr>\n",
       "  </thead>\n",
       "  <tbody>\n",
       "    <tr>\n",
       "      <th>0</th>\n",
       "      <td>154</td>\n",
       "      <td>3.203</td>\n",
       "      <td>0.350</td>\n",
       "      <td>0.517</td>\n",
       "      <td>0.361</td>\n",
       "      <td>0.000</td>\n",
       "      <td>0.025</td>\n",
       "      <td>0.158</td>\n",
       "      <td>False</td>\n",
       "      <td>False</td>\n",
       "      <td>False</td>\n",
       "      <td>False</td>\n",
       "      <td>False</td>\n",
       "      <td>False</td>\n",
       "      <td>False</td>\n",
       "      <td>True</td>\n",
       "      <td>False</td>\n",
       "      <td>False</td>\n",
       "    </tr>\n",
       "    <tr>\n",
       "      <th>1</th>\n",
       "      <td>107</td>\n",
       "      <td>4.719</td>\n",
       "      <td>0.947</td>\n",
       "      <td>0.848</td>\n",
       "      <td>0.874</td>\n",
       "      <td>0.383</td>\n",
       "      <td>0.027</td>\n",
       "      <td>0.178</td>\n",
       "      <td>False</td>\n",
       "      <td>True</td>\n",
       "      <td>False</td>\n",
       "      <td>False</td>\n",
       "      <td>False</td>\n",
       "      <td>False</td>\n",
       "      <td>False</td>\n",
       "      <td>False</td>\n",
       "      <td>False</td>\n",
       "      <td>False</td>\n",
       "    </tr>\n",
       "    <tr>\n",
       "      <th>2</th>\n",
       "      <td>88</td>\n",
       "      <td>5.211</td>\n",
       "      <td>1.002</td>\n",
       "      <td>1.160</td>\n",
       "      <td>0.785</td>\n",
       "      <td>0.086</td>\n",
       "      <td>0.114</td>\n",
       "      <td>0.073</td>\n",
       "      <td>False</td>\n",
       "      <td>False</td>\n",
       "      <td>False</td>\n",
       "      <td>False</td>\n",
       "      <td>True</td>\n",
       "      <td>False</td>\n",
       "      <td>False</td>\n",
       "      <td>False</td>\n",
       "      <td>False</td>\n",
       "      <td>False</td>\n",
       "    </tr>\n",
       "    <tr>\n",
       "      <th>3</th>\n",
       "      <td>47</td>\n",
       "      <td>6.086</td>\n",
       "      <td>1.092</td>\n",
       "      <td>1.432</td>\n",
       "      <td>0.881</td>\n",
       "      <td>0.471</td>\n",
       "      <td>0.050</td>\n",
       "      <td>0.066</td>\n",
       "      <td>False</td>\n",
       "      <td>False</td>\n",
       "      <td>False</td>\n",
       "      <td>True</td>\n",
       "      <td>False</td>\n",
       "      <td>False</td>\n",
       "      <td>False</td>\n",
       "      <td>False</td>\n",
       "      <td>False</td>\n",
       "      <td>False</td>\n",
       "    </tr>\n",
       "    <tr>\n",
       "      <th>4</th>\n",
       "      <td>116</td>\n",
       "      <td>4.559</td>\n",
       "      <td>0.850</td>\n",
       "      <td>1.055</td>\n",
       "      <td>0.815</td>\n",
       "      <td>0.283</td>\n",
       "      <td>0.064</td>\n",
       "      <td>0.095</td>\n",
       "      <td>False</td>\n",
       "      <td>True</td>\n",
       "      <td>False</td>\n",
       "      <td>False</td>\n",
       "      <td>False</td>\n",
       "      <td>False</td>\n",
       "      <td>False</td>\n",
       "      <td>False</td>\n",
       "      <td>False</td>\n",
       "      <td>False</td>\n",
       "    </tr>\n",
       "  </tbody>\n",
       "</table>\n",
       "</div>"
      ],
      "text/plain": [
       "   Rank 2019  Score 2019  GDP 2019  Family 2019  Life Expectancy 2019  \\\n",
       "0        154       3.203     0.350        0.517                 0.361   \n",
       "1        107       4.719     0.947        0.848                 0.874   \n",
       "2         88       5.211     1.002        1.160                 0.785   \n",
       "3         47       6.086     1.092        1.432                 0.881   \n",
       "4        116       4.559     0.850        1.055                 0.815   \n",
       "\n",
       "   Freedom 2019  Trust 2019  Generosity 2019  \\\n",
       "0         0.000       0.025            0.158   \n",
       "1         0.383       0.027            0.178   \n",
       "2         0.086       0.114            0.073   \n",
       "3         0.471       0.050            0.066   \n",
       "4         0.283       0.064            0.095   \n",
       "\n",
       "   Region_Australia and New Zealand  Region_Central and Eastern Europe  \\\n",
       "0                             False                              False   \n",
       "1                             False                               True   \n",
       "2                             False                              False   \n",
       "3                             False                              False   \n",
       "4                             False                               True   \n",
       "\n",
       "   Region_Eastern Asia  Region_Latin America and Caribbean  \\\n",
       "0                False                               False   \n",
       "1                False                               False   \n",
       "2                False                               False   \n",
       "3                False                                True   \n",
       "4                False                               False   \n",
       "\n",
       "   Region_Middle East and Northern Africa  Region_North America  \\\n",
       "0                                   False                 False   \n",
       "1                                   False                 False   \n",
       "2                                    True                 False   \n",
       "3                                   False                 False   \n",
       "4                                   False                 False   \n",
       "\n",
       "   Region_Southeastern Asia  Region_Southern Asia  Region_Sub-Saharan Africa  \\\n",
       "0                     False                  True                      False   \n",
       "1                     False                 False                      False   \n",
       "2                     False                 False                      False   \n",
       "3                     False                 False                      False   \n",
       "4                     False                 False                      False   \n",
       "\n",
       "   Region_Western Europe  \n",
       "0                  False  \n",
       "1                  False  \n",
       "2                  False  \n",
       "3                  False  \n",
       "4                  False  "
      ]
     },
     "execution_count": 11,
     "metadata": {},
     "output_type": "execute_result"
    }
   ],
   "source": [
    "data = pd.get_dummies(data, columns=object_cols)\n",
    "data.head()"
   ]
  },
  {
   "cell_type": "markdown",
   "id": "fd461e12",
   "metadata": {
    "papermill": {
     "duration": 0.005523,
     "end_time": "2025-03-04T21:15:28.379805",
     "exception": false,
     "start_time": "2025-03-04T21:15:28.374282",
     "status": "completed"
    },
    "tags": []
   },
   "source": [
    "# PCA"
   ]
  },
  {
   "cell_type": "code",
   "execution_count": 12,
   "id": "0043891b",
   "metadata": {
    "execution": {
     "iopub.execute_input": "2025-03-04T21:15:28.393369Z",
     "iopub.status.busy": "2025-03-04T21:15:28.393007Z",
     "iopub.status.idle": "2025-03-04T21:15:28.401690Z",
     "shell.execute_reply": "2025-03-04T21:15:28.400736Z"
    },
    "papermill": {
     "duration": 0.016496,
     "end_time": "2025-03-04T21:15:28.403407",
     "exception": false,
     "start_time": "2025-03-04T21:15:28.386911",
     "status": "completed"
    },
    "tags": []
   },
   "outputs": [],
   "source": [
    "pca = PCA(n_components=1)\n",
    "pca_result = pca.fit_transform(data.drop(columns=[target_col_name]))\n",
    "data['PCA'] = pca_result[:, 0]"
   ]
  },
  {
   "cell_type": "code",
   "execution_count": 13,
   "id": "fce71652",
   "metadata": {
    "execution": {
     "iopub.execute_input": "2025-03-04T21:15:28.414413Z",
     "iopub.status.busy": "2025-03-04T21:15:28.413973Z",
     "iopub.status.idle": "2025-03-04T21:15:28.898473Z",
     "shell.execute_reply": "2025-03-04T21:15:28.897138Z"
    },
    "papermill": {
     "duration": 0.492348,
     "end_time": "2025-03-04T21:15:28.900621",
     "exception": false,
     "start_time": "2025-03-04T21:15:28.408273",
     "status": "completed"
    },
    "tags": []
   },
   "outputs": [
    {
     "data": {
      "image/png": "[encoded data removed]",
      "text/plain": [
       "<Figure size 2000x1500 with 1 Axes>"
      ]
     },
     "metadata": {},
     "output_type": "display_data"
    }
   ],
   "source": [
    "fig, axe = plt.subplots(figsize=(20, 15))\n",
    "\n",
    "sns.scatterplot(x='PCA', y=target_col_name, data=data, ax=axe, color='b')\n",
    "axe.set_title(f'PCA vs {target_col_name}', fontsize=20)\n",
    "axe.set_xlabel('PCA', fontsize=16)\n",
    "axe.set_ylabel(target_col_name, fontsize=16)\n",
    "\n",
    "plt.tight_layout()\n",
    "plt.show()"
   ]
  },
  {
   "cell_type": "code",
   "execution_count": 14,
   "id": "0cb07c48",
   "metadata": {
    "execution": {
     "iopub.execute_input": "2025-03-04T21:15:28.914424Z",
     "iopub.status.busy": "2025-03-04T21:15:28.914059Z",
     "iopub.status.idle": "2025-03-04T21:15:28.920710Z",
     "shell.execute_reply": "2025-03-04T21:15:28.918781Z"
    },
    "papermill": {
     "duration": 0.016976,
     "end_time": "2025-03-04T21:15:28.923335",
     "exception": false,
     "start_time": "2025-03-04T21:15:28.906359",
     "status": "completed"
    },
    "tags": []
   },
   "outputs": [],
   "source": [
    "data['PCA'] = data['PCA'].max() - data['PCA']"
   ]
  },
  {
   "cell_type": "markdown",
   "id": "391cbd8e",
   "metadata": {
    "papermill": {
     "duration": 0.005525,
     "end_time": "2025-03-04T21:15:28.934725",
     "exception": false,
     "start_time": "2025-03-04T21:15:28.929200",
     "status": "completed"
    },
    "tags": []
   },
   "source": [
    "# Training"
   ]
  },
  {
   "cell_type": "code",
   "execution_count": 15,
   "id": "14d45d55",
   "metadata": {
    "execution": {
     "iopub.execute_input": "2025-03-04T21:15:28.947778Z",
     "iopub.status.busy": "2025-03-04T21:15:28.947306Z",
     "iopub.status.idle": "2025-03-04T21:15:49.564918Z",
     "shell.execute_reply": "2025-03-04T21:15:49.563253Z"
    },
    "papermill": {
     "duration": 20.626449,
     "end_time": "2025-03-04T21:15:49.566730",
     "exception": false,
     "start_time": "2025-03-04T21:15:28.940281",
     "status": "completed"
    },
    "tags": []
   },
   "outputs": [],
   "source": [
    "test_pairs = generate_random_pairs(data, 20000)\n",
    "test_df = create_pair_df(data, test_pairs, target_col_name)"
   ]
  },
  {
   "cell_type": "code",
   "execution_count": 16,
   "id": "5dd8252c",
   "metadata": {
    "execution": {
     "iopub.execute_input": "2025-03-04T21:15:49.578810Z",
     "iopub.status.busy": "2025-03-04T21:15:49.578385Z",
     "iopub.status.idle": "2025-03-04T21:15:49.583968Z",
     "shell.execute_reply": "2025-03-04T21:15:49.582506Z"
    },
    "papermill": {
     "duration": 0.013337,
     "end_time": "2025-03-04T21:15:49.585682",
     "exception": false,
     "start_time": "2025-03-04T21:15:49.572345",
     "status": "completed"
    },
    "tags": []
   },
   "outputs": [],
   "source": [
    "tree_depth = int(np.round(np.sqrt(len(data.columns))))"
   ]
  },
  {
   "cell_type": "code",
   "execution_count": 17,
   "id": "f050b997",
   "metadata": {
    "execution": {
     "iopub.execute_input": "2025-03-04T21:15:49.597710Z",
     "iopub.status.busy": "2025-03-04T21:15:49.597284Z",
     "iopub.status.idle": "2025-03-04T21:16:47.227283Z",
     "shell.execute_reply": "2025-03-04T21:16:47.226102Z"
    },
    "papermill": {
     "duration": 57.637934,
     "end_time": "2025-03-04T21:16:47.229118",
     "exception": false,
     "start_time": "2025-03-04T21:15:49.591184",
     "status": "completed"
    },
    "tags": []
   },
   "outputs": [
    {
     "name": "stderr",
     "output_type": "stream",
     "text": [
      "100%|██████████| 1/1 [00:27<00:00, 27.53s/it]"
     ]
    },
    {
     "name": "stdout",
     "output_type": "stream",
     "text": [
      "Mean Accuracy: 0.9362\n",
      "Mean Precision: 0.9389404369949117\n",
      "Mean Recall: 0.9340942928039703\n",
      "Mean F1 Score: 0.9365110956314061\n"
     ]
    },
    {
     "name": "stderr",
     "output_type": "stream",
     "text": [
      "\n"
     ]
    }
   ],
   "source": [
    "mf1 = train_evaluate_repeat(generate_random_pairs, data, num_samples=100000, depth=tree_depth, test_df=test_df, use_bradley=True, exp=True, add_noise=False, noise=0.1, label_col=target_col_name, repeats=1)"
   ]
  },
  {
   "cell_type": "code",
   "execution_count": 18,
   "id": "308991af",
   "metadata": {
    "execution": {
     "iopub.execute_input": "2025-03-04T21:16:47.241838Z",
     "iopub.status.busy": "2025-03-04T21:16:47.241446Z",
     "iopub.status.idle": "2025-03-04T21:16:47.250328Z",
     "shell.execute_reply": "2025-03-04T21:16:47.248877Z"
    },
    "papermill": {
     "duration": 0.017202,
     "end_time": "2025-03-04T21:16:47.252196",
     "exception": false,
     "start_time": "2025-03-04T21:16:47.234994",
     "status": "completed"
    },
    "tags": []
   },
   "outputs": [
    {
     "name": "stdout",
     "output_type": "stream",
     "text": [
      "1.842946257741448\n"
     ]
    }
   ],
   "source": [
    "var, residuals = calculate_pca_var(data, target_col_name)\n",
    "print(var)"
   ]
  },
  {
   "cell_type": "code",
   "execution_count": 25,
   "id": "47b4bb97",
   "metadata": {
    "execution": {
     "iopub.execute_input": "2025-03-04T21:16:47.265273Z",
     "iopub.status.busy": "2025-03-04T21:16:47.264973Z",
     "iopub.status.idle": "2025-03-04T21:16:47.270021Z",
     "shell.execute_reply": "2025-03-04T21:16:47.268176Z"
    },
    "papermill": {
     "duration": 0.013553,
     "end_time": "2025-03-04T21:16:47.271906",
     "exception": false,
     "start_time": "2025-03-04T21:16:47.258353",
     "status": "completed"
    },
    "tags": []
   },
   "outputs": [
    {
     "name": "stdout",
     "output_type": "stream",
     "text": [
      "1559\n"
     ]
    }
   ],
   "source": [
    "# Calculating the number of pairs\n",
    "max_pairs = len(data) * 10\n",
    "alpha = 1e-6\n",
    "\n",
    "num_pairs = int(max_pairs / (1 + alpha * var))\n",
    "print(num_pairs)"
   ]
  },
  {
   "cell_type": "code",
   "execution_count": 26,
   "id": "7e51774d",
   "metadata": {
    "execution": {
     "iopub.execute_input": "2025-03-04T21:16:47.285306Z",
     "iopub.status.busy": "2025-03-04T21:16:47.284988Z",
     "iopub.status.idle": "2025-03-04T21:16:50.510549Z",
     "shell.execute_reply": "2025-03-04T21:16:50.509291Z"
    },
    "papermill": {
     "duration": 3.235177,
     "end_time": "2025-03-04T21:16:50.513177",
     "exception": false,
     "start_time": "2025-03-04T21:16:47.278000",
     "status": "completed"
    },
    "tags": []
   },
   "outputs": [],
   "source": [
    "pretrain_params = {\n",
    "    'objective': 'binary:logistic',\n",
    "    'eval_metric': 'logloss',\n",
    "    'max_depth': tree_depth\n",
    "}\n",
    "pretrained_model = pretrain_model_with_residuals(df=data, n_samples=num_pairs, pretrain_params=pretrain_params, target_col=target_col_name, residuals=residuals)"
   ]
  },
  {
   "cell_type": "code",
   "execution_count": 27,
   "id": "746f0fe6",
   "metadata": {
    "execution": {
     "iopub.execute_input": "2025-03-04T21:16:50.531457Z",
     "iopub.status.busy": "2025-03-04T21:16:50.531059Z",
     "iopub.status.idle": "2025-03-05T00:38:38.350005Z",
     "shell.execute_reply": "2025-03-05T00:38:38.348127Z"
    },
    "papermill": {
     "duration": 12107.832268,
     "end_time": "2025-03-05T00:38:38.352137",
     "exception": false,
     "start_time": "2025-03-04T21:16:50.519869",
     "status": "completed"
    },
    "tags": []
   },
   "outputs": [
    {
     "name": "stderr",
     "output_type": "stream",
     "text": [
      "Blank model with uncertainty pairs: 100%|██████████| 16/16 [00:41<00:00,  2.60s/it]\n",
      "Pretrained model with uncertainty pairs: 100%|██████████| 16/16 [00:43<00:00,  2.70s/it]\n",
      "Blank model with random pairs: 100%|██████████| 16/16 [00:04<00:00,  3.85it/s]\n",
      "Blank model with uncertainty pairs: 100%|██████████| 16/16 [00:40<00:00,  2.53s/it]\n",
      "Pretrained model with uncertainty pairs: 100%|██████████| 16/16 [00:43<00:00,  2.72s/it]\n",
      "Blank model with random pairs: 100%|██████████| 16/16 [00:04<00:00,  3.87it/s]\n",
      "Blank model with uncertainty pairs: 100%|██████████| 16/16 [00:40<00:00,  2.54s/it]\n",
      "Pretrained model with uncertainty pairs: 100%|██████████| 16/16 [00:43<00:00,  2.70s/it]\n",
      "Blank model with random pairs: 100%|██████████| 16/16 [00:04<00:00,  3.96it/s]\n",
      "Blank model with uncertainty pairs: 100%|██████████| 16/16 [00:40<00:00,  2.52s/it]\n",
      "Pretrained model with uncertainty pairs: 100%|██████████| 16/16 [00:43<00:00,  2.72s/it]\n",
      "Blank model with random pairs: 100%|██████████| 16/16 [00:04<00:00,  4.00it/s]\n",
      "Blank model with uncertainty pairs: 100%|██████████| 16/16 [00:40<00:00,  2.54s/it]\n",
      "Pretrained model with uncertainty pairs: 100%|██████████| 16/16 [00:43<00:00,  2.71s/it]\n",
      "Blank model with random pairs: 100%|██████████| 16/16 [00:04<00:00,  3.85it/s]\n",
      "Blank model with uncertainty pairs: 100%|██████████| 16/16 [00:40<00:00,  2.53s/it]\n",
      "Pretrained model with uncertainty pairs: 100%|██████████| 16/16 [00:43<00:00,  2.71s/it]\n",
      "Blank model with random pairs: 100%|██████████| 16/16 [00:04<00:00,  3.86it/s]\n",
      "Blank model with uncertainty pairs: 100%|██████████| 16/16 [00:40<00:00,  2.54s/it]\n",
      "Pretrained model with uncertainty pairs: 100%|██████████| 16/16 [00:43<00:00,  2.71s/it]\n",
      "Blank model with random pairs: 100%|██████████| 16/16 [00:04<00:00,  3.83it/s]\n",
      "Blank model with uncertainty pairs: 100%|██████████| 16/16 [00:40<00:00,  2.53s/it]\n",
      "Pretrained model with uncertainty pairs: 100%|██████████| 16/16 [00:43<00:00,  2.70s/it]\n",
      "Blank model with random pairs: 100%|██████████| 16/16 [00:04<00:00,  3.92it/s]\n",
      "Blank model with uncertainty pairs: 100%|██████████| 16/16 [00:40<00:00,  2.53s/it]\n",
      "Pretrained model with uncertainty pairs: 100%|██████████| 16/16 [00:43<00:00,  2.72s/it]\n",
      "Blank model with random pairs: 100%|██████████| 16/16 [00:04<00:00,  3.83it/s]\n",
      "Blank model with uncertainty pairs: 100%|██████████| 16/16 [00:40<00:00,  2.53s/it]\n",
      "Pretrained model with uncertainty pairs: 100%|██████████| 16/16 [00:43<00:00,  2.70s/it]\n",
      "Blank model with random pairs: 100%|██████████| 16/16 [00:04<00:00,  3.88it/s]\n",
      "Blank model with uncertainty pairs: 100%|██████████| 16/16 [00:40<00:00,  2.52s/it]\n",
      "Pretrained model with uncertainty pairs: 100%|██████████| 16/16 [00:44<00:00,  2.76s/it]\n",
      "Blank model with random pairs: 100%|██████████| 16/16 [00:04<00:00,  3.90it/s]\n",
      "Blank model with uncertainty pairs: 100%|██████████| 16/16 [00:40<00:00,  2.53s/it]\n",
      "Pretrained model with uncertainty pairs: 100%|██████████| 16/16 [00:43<00:00,  2.71s/it]\n",
      "Blank model with random pairs: 100%|██████████| 16/16 [00:04<00:00,  3.91it/s]\n",
      "Blank model with uncertainty pairs: 100%|██████████| 16/16 [00:40<00:00,  2.53s/it]\n",
      "Pretrained model with uncertainty pairs: 100%|██████████| 16/16 [00:43<00:00,  2.70s/it]\n",
      "Blank model with random pairs: 100%|██████████| 16/16 [00:04<00:00,  3.87it/s]\n",
      "Blank model with uncertainty pairs: 100%|██████████| 16/16 [00:40<00:00,  2.53s/it]\n",
      "Pretrained model with uncertainty pairs: 100%|██████████| 16/16 [00:43<00:00,  2.71s/it]\n",
      "Blank model with random pairs: 100%|██████████| 16/16 [00:04<00:00,  3.96it/s]\n",
      "Blank model with uncertainty pairs: 100%|██████████| 16/16 [00:40<00:00,  2.54s/it]\n",
      "Pretrained model with uncertainty pairs: 100%|██████████| 16/16 [00:43<00:00,  2.70s/it]\n",
      "Blank model with random pairs: 100%|██████████| 16/16 [00:04<00:00,  3.90it/s]\n",
      "Blank model with uncertainty pairs: 100%|██████████| 16/16 [00:40<00:00,  2.54s/it]\n",
      "Pretrained model with uncertainty pairs: 100%|██████████| 16/16 [00:43<00:00,  2.70s/it]\n",
      "Blank model with random pairs: 100%|██████████| 16/16 [00:04<00:00,  3.96it/s]\n",
      "Blank model with uncertainty pairs: 100%|██████████| 16/16 [00:40<00:00,  2.52s/it]\n",
      "Pretrained model with uncertainty pairs: 100%|██████████| 16/16 [00:43<00:00,  2.70s/it]\n",
      "Blank model with random pairs: 100%|██████████| 16/16 [00:04<00:00,  3.79it/s]\n",
      "Blank model with uncertainty pairs: 100%|██████████| 16/16 [00:40<00:00,  2.53s/it]\n",
      "Pretrained model with uncertainty pairs: 100%|██████████| 16/16 [00:43<00:00,  2.70s/it]\n",
      "Blank model with random pairs: 100%|██████████| 16/16 [00:04<00:00,  3.79it/s]\n",
      "Blank model with uncertainty pairs: 100%|██████████| 16/16 [00:40<00:00,  2.55s/it]\n",
      "Pretrained model with uncertainty pairs: 100%|██████████| 16/16 [00:43<00:00,  2.71s/it]\n",
      "Blank model with random pairs: 100%|██████████| 16/16 [00:04<00:00,  3.79it/s]\n",
      "Blank model with uncertainty pairs: 100%|██████████| 16/16 [00:40<00:00,  2.53s/it]\n",
      "Pretrained model with uncertainty pairs: 100%|██████████| 16/16 [00:43<00:00,  2.71s/it]\n",
      "Blank model with random pairs: 100%|██████████| 16/16 [00:04<00:00,  3.86it/s]\n",
      "Blank model with uncertainty pairs: 100%|██████████| 16/16 [00:40<00:00,  2.52s/it]\n",
      "Pretrained model with uncertainty pairs: 100%|██████████| 16/16 [00:43<00:00,  2.71s/it]\n",
      "Blank model with random pairs: 100%|██████████| 16/16 [00:04<00:00,  3.86it/s]\n",
      "Blank model with uncertainty pairs: 100%|██████████| 16/16 [00:40<00:00,  2.53s/it]\n",
      "Pretrained model with uncertainty pairs: 100%|██████████| 16/16 [00:43<00:00,  2.71s/it]\n",
      "Blank model with random pairs: 100%|██████████| 16/16 [00:04<00:00,  3.87it/s]\n",
      "Blank model with uncertainty pairs: 100%|██████████| 16/16 [00:40<00:00,  2.55s/it]\n",
      "Pretrained model with uncertainty pairs: 100%|██████████| 16/16 [00:43<00:00,  2.71s/it]\n",
      "Blank model with random pairs: 100%|██████████| 16/16 [00:04<00:00,  3.84it/s]\n",
      "Blank model with uncertainty pairs: 100%|██████████| 16/16 [00:40<00:00,  2.53s/it]\n",
      "Pretrained model with uncertainty pairs: 100%|██████████| 16/16 [00:43<00:00,  2.70s/it]\n",
      "Blank model with random pairs: 100%|██████████| 16/16 [00:04<00:00,  3.90it/s]\n",
      "Blank model with uncertainty pairs: 100%|██████████| 16/16 [00:40<00:00,  2.52s/it]\n",
      "Pretrained model with uncertainty pairs: 100%|██████████| 16/16 [00:43<00:00,  2.70s/it]\n",
      "Blank model with random pairs: 100%|██████████| 16/16 [00:04<00:00,  3.82it/s]\n",
      "Blank model with uncertainty pairs: 100%|██████████| 16/16 [00:40<00:00,  2.54s/it]\n",
      "Pretrained model with uncertainty pairs: 100%|██████████| 16/16 [00:43<00:00,  2.71s/it]\n",
      "Blank model with random pairs: 100%|██████████| 16/16 [00:04<00:00,  3.89it/s]\n",
      "Blank model with uncertainty pairs: 100%|██████████| 16/16 [00:40<00:00,  2.53s/it]\n",
      "Pretrained model with uncertainty pairs: 100%|██████████| 16/16 [00:43<00:00,  2.70s/it]\n",
      "Blank model with random pairs: 100%|██████████| 16/16 [00:04<00:00,  3.88it/s]\n",
      "Blank model with uncertainty pairs: 100%|██████████| 16/16 [00:40<00:00,  2.53s/it]\n",
      "Pretrained model with uncertainty pairs: 100%|██████████| 16/16 [00:43<00:00,  2.70s/it]\n",
      "Blank model with random pairs: 100%|██████████| 16/16 [00:04<00:00,  3.93it/s]\n",
      "Blank model with uncertainty pairs: 100%|██████████| 16/16 [00:40<00:00,  2.53s/it]\n",
      "Pretrained model with uncertainty pairs: 100%|██████████| 16/16 [00:43<00:00,  2.74s/it]\n",
      "Blank model with random pairs: 100%|██████████| 16/16 [00:04<00:00,  3.94it/s]\n",
      "Blank model with uncertainty pairs: 100%|██████████| 16/16 [00:40<00:00,  2.53s/it]\n",
      "Pretrained model with uncertainty pairs: 100%|██████████| 16/16 [00:43<00:00,  2.71s/it]\n",
      "Blank model with random pairs: 100%|██████████| 16/16 [00:04<00:00,  3.87it/s]\n",
      "Blank model with uncertainty pairs: 100%|██████████| 16/16 [00:40<00:00,  2.52s/it]\n",
      "Pretrained model with uncertainty pairs: 100%|██████████| 16/16 [00:43<00:00,  2.70s/it]\n",
      "Blank model with random pairs: 100%|██████████| 16/16 [00:04<00:00,  3.88it/s]\n",
      "Blank model with uncertainty pairs: 100%|██████████| 16/16 [00:40<00:00,  2.53s/it]\n",
      "Pretrained model with uncertainty pairs: 100%|██████████| 16/16 [00:43<00:00,  2.69s/it]\n",
      "Blank model with random pairs: 100%|██████████| 16/16 [00:04<00:00,  3.88it/s]\n",
      "Blank model with uncertainty pairs: 100%|██████████| 16/16 [00:40<00:00,  2.54s/it]\n",
      "Pretrained model with uncertainty pairs: 100%|██████████| 16/16 [00:43<00:00,  2.70s/it]\n",
      "Blank model with random pairs: 100%|██████████| 16/16 [00:04<00:00,  3.88it/s]\n",
      "Blank model with uncertainty pairs: 100%|██████████| 16/16 [00:40<00:00,  2.53s/it]\n",
      "Pretrained model with uncertainty pairs: 100%|██████████| 16/16 [00:43<00:00,  2.71s/it]\n",
      "Blank model with random pairs: 100%|██████████| 16/16 [00:04<00:00,  3.95it/s]\n",
      "Blank model with uncertainty pairs: 100%|██████████| 16/16 [00:40<00:00,  2.54s/it]\n",
      "Pretrained model with uncertainty pairs: 100%|██████████| 16/16 [00:43<00:00,  2.71s/it]\n",
      "Blank model with random pairs: 100%|██████████| 16/16 [00:04<00:00,  3.85it/s]\n",
      "Blank model with uncertainty pairs: 100%|██████████| 16/16 [00:40<00:00,  2.53s/it]\n",
      "Pretrained model with uncertainty pairs: 100%|██████████| 16/16 [00:43<00:00,  2.70s/it]\n",
      "Blank model with random pairs: 100%|██████████| 16/16 [00:04<00:00,  3.80it/s]\n",
      "Blank model with uncertainty pairs: 100%|██████████| 16/16 [00:40<00:00,  2.53s/it]\n",
      "Pretrained model with uncertainty pairs: 100%|██████████| 16/16 [00:43<00:00,  2.70s/it]\n",
      "Blank model with random pairs: 100%|██████████| 16/16 [00:04<00:00,  3.81it/s]\n",
      "Blank model with uncertainty pairs: 100%|██████████| 16/16 [00:40<00:00,  2.53s/it]\n",
      "Pretrained model with uncertainty pairs: 100%|██████████| 16/16 [00:43<00:00,  2.70s/it]\n",
      "Blank model with random pairs: 100%|██████████| 16/16 [00:04<00:00,  3.92it/s]\n",
      "Blank model with uncertainty pairs: 100%|██████████| 16/16 [00:40<00:00,  2.53s/it]\n",
      "Pretrained model with uncertainty pairs: 100%|██████████| 16/16 [00:43<00:00,  2.70s/it]\n",
      "Blank model with random pairs: 100%|██████████| 16/16 [00:04<00:00,  3.79it/s]\n",
      "Blank model with uncertainty pairs: 100%|██████████| 16/16 [00:40<00:00,  2.53s/it]\n",
      "Pretrained model with uncertainty pairs: 100%|██████████| 16/16 [00:43<00:00,  2.69s/it]\n",
      "Blank model with random pairs: 100%|██████████| 16/16 [00:04<00:00,  3.85it/s]\n"
     ]
    }
   ],
   "source": [
    "step = 50\n",
    "num_samples = 800\n",
    "repeats = 40\n",
    "\n",
    "f1_scores_UB_repeats = []\n",
    "f1_scores_UP_repeats = []\n",
    "f1_scores_RB_repeats = []\n",
    "\n",
    "# Create a for loop from n to num_samples with a step of n\n",
    "for _ in range(repeats):\n",
    "    f1_scores_UB, f1_scores_UP, f1_scores_RB = compare_three_methods(\n",
    "        df=data,\n",
    "        test_df=test_df,\n",
    "        pretrain_params=pretrain_params,\n",
    "        pretrained_model=pretrained_model,\n",
    "        target_col=target_col_name,\n",
    "        use_bradley=True,\n",
    "        exp=True,\n",
    "        add_noise=False,\n",
    "        total_pairs=num_samples,\n",
    "        batch_size=step,\n",
    "    )\n",
    "    f1_scores_UB_repeats.append(f1_scores_UB)\n",
    "    f1_scores_UP_repeats.append(f1_scores_UP)\n",
    "    f1_scores_RB_repeats.append(f1_scores_RB)\n",
    "\n",
    "# Compute the average F1 scores across repeats\n",
    "average_f1_scores_UB = np.mean(f1_scores_UB_repeats, axis=0)\n",
    "average_f1_scores_UP = np.mean(f1_scores_UP_repeats, axis=0)\n",
    "average_f1_scores_RB = np.mean(f1_scores_RB_repeats, axis=0)"
   ]
  },
  {
   "cell_type": "code",
   "execution_count": 28,
   "id": "b74896b7",
   "metadata": {
    "execution": {
     "iopub.execute_input": "2025-03-05T00:38:38.546528Z",
     "iopub.status.busy": "2025-03-05T00:38:38.546218Z",
     "iopub.status.idle": "2025-03-05T00:38:38.770125Z",
     "shell.execute_reply": "2025-03-05T00:38:38.768628Z"
    },
    "papermill": {
     "duration": 0.32242,
     "end_time": "2025-03-05T00:38:38.771584",
     "exception": false,
     "start_time": "2025-03-05T00:38:38.449164",
     "status": "completed"
    },
    "tags": []
   },
   "outputs": [
    {
     "data": {
      "image/png": "[encoded data removed]",
      "text/plain": [
       "<Figure size 1200x600 with 1 Axes>"
      ]
     },
     "metadata": {},
     "output_type": "display_data"
    }
   ],
   "source": [
    "# Plot the results\n",
    "plt.figure(figsize=(12, 6))\n",
    "plt.plot(range(step, num_samples+1, step), average_f1_scores_UB, label='Uncertainty Blank Model', color='blue')\n",
    "plt.plot(range(step, num_samples+1, step), average_f1_scores_UP, label='Uncertainty Pretrained Model', color='orange')\n",
    "plt.plot(range(step, num_samples+1, step), average_f1_scores_RB, label='Random Blank Model', color='green')\n",
    "plt.axhline(y = mf1, color = 'r', linestyle = '-', label='Asymptotic Model')\n",
    "plt.xlabel('Number of Training Samples')\n",
    "plt.ylabel('F1 Score')\n",
    "plt.title('Comparison of F1 Scores with huge repetition')\n",
    "plt.legend()\n",
    "plt.grid(True)\n",
    "plt.show()"
   ]
  },
  {
   "cell_type": "code",
   "execution_count": 29,
   "id": "10e63fc3",
   "metadata": {},
   "outputs": [
    {
     "name": "stderr",
     "output_type": "stream",
     "text": [
      "Blank model with uncertainty pairs: 100%|██████████| 200/200 [12:51<00:00,  3.86s/it]\n",
      "Pretrained model with uncertainty pairs: 100%|██████████| 200/200 [13:00<00:00,  3.90s/it]\n",
      "Blank model with random pairs: 100%|██████████| 200/200 [01:07<00:00,  2.95it/s]\n"
     ]
    }
   ],
   "source": [
    "step = 50\n",
    "num_samples = 10000\n",
    "repeats = 1\n",
    "\n",
    "f1_scores_UB_repeats2 = []\n",
    "f1_scores_UP_repeats2 = []\n",
    "f1_scores_RB_repeats2 = []\n",
    "\n",
    "# Create a for loop from n to num_samples with a step of n\n",
    "for _ in range(repeats):\n",
    "    f1_scores_UB, f1_scores_UP, f1_scores_RB = compare_three_methods(\n",
    "        df=data,\n",
    "        test_df=test_df,\n",
    "        pretrain_params=pretrain_params,\n",
    "        pretrained_model=pretrained_model,\n",
    "        target_col=target_col_name,\n",
    "        use_bradley=True,\n",
    "        exp=True,\n",
    "        add_noise=False,\n",
    "        total_pairs=num_samples,\n",
    "        batch_size=step,\n",
    "    )\n",
    "    f1_scores_UB_repeats2.append(f1_scores_UB)\n",
    "    f1_scores_UP_repeats2.append(f1_scores_UP)\n",
    "    f1_scores_RB_repeats2.append(f1_scores_RB)\n",
    "\n",
    "# Compute the average F1 scores across repeats\n",
    "average_f1_scores_UB2 = np.mean(f1_scores_UB_repeats2, axis=0)\n",
    "average_f1_scores_UP2 = np.mean(f1_scores_UP_repeats2, axis=0)\n",
    "average_f1_scores_RB2 = np.mean(f1_scores_RB_repeats2, axis=0)"
   ]
  },
  {
   "cell_type": "code",
   "execution_count": 30,
   "id": "d2dd7b6d",
   "metadata": {},
   "outputs": [
    {
     "data": {
      "image/png": "[encoded data removed]",
      "text/plain": [
       "<Figure size 1200x600 with 1 Axes>"
      ]
     },
     "metadata": {},
     "output_type": "display_data"
    }
   ],
   "source": [
    "# Plot the results\n",
    "plt.figure(figsize=(12, 6))\n",
    "plt.plot(range(step, num_samples+1, step), average_f1_scores_UB2, label='Uncertainty Blank Model', color='blue')\n",
    "plt.plot(range(step, num_samples+1, step), average_f1_scores_UP2, label='Uncertainty Pretrained Model', color='orange')\n",
    "plt.plot(range(step, num_samples+1, step), average_f1_scores_RB2, label='Random Blank Model', color='green')\n",
    "plt.axhline(y = mf1, color = 'r', linestyle = '-', label='Asymptotic Model')\n",
    "plt.xlabel('Number of Training Samples')\n",
    "plt.ylabel('F1 Score')\n",
    "plt.title('Comparison of F1 Scores with wide spectrum')\n",
    "plt.legend()\n",
    "plt.grid(True)\n",
    "plt.show()"
   ]
  }
 ],
 "metadata": {
  "kaggle": {
   "accelerator": "none",
   "dataSources": [
    {
     "datasetId": 6781110,
     "sourceId": 10909144,
     "sourceType": "datasetVersion"
    },
    {
     "datasetId": 6781122,
     "sourceId": 10909159,
     "sourceType": "datasetVersion"
    }
   ],
   "dockerImageVersionId": 30918,
   "isGpuEnabled": false,
   "isInternetEnabled": true,
   "language": "python",
   "sourceType": "notebook"
  },
  "kernelspec": {
   "display_name": "Python 3",
   "language": "python",
   "name": "python3"
  },
  "language_info": {
   "codemirror_mode": {
    "name": "ipython",
    "version": 3
   },
   "file_extension": ".py",
   "mimetype": "text/x-python",
   "name": "python",
   "nbconvert_exporter": "python",
   "pygments_lexer": "ipython3",
   "version": "3.12.6"
  },
  "papermill": {
   "default_parameters": {},
   "duration": 12198.893182,
   "end_time": "2025-03-05T00:38:39.729010",
   "environment_variables": {},
   "exception": null,
   "input_path": "__notebook__.ipynb",
   "output_path": "__notebook__.ipynb",
   "parameters": {},
   "start_time": "2025-03-04T21:15:20.835828",
   "version": "2.6.0"
  }
 },
 "nbformat": 4,
 "nbformat_minor": 5
}
